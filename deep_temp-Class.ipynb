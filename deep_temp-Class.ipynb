{
 "cells": [
  {
   "cell_type": "markdown",
   "id": "a7c2793b",
   "metadata": {},
   "source": [
    "# DeepBeerLevelz\n",
    "\n",
    "DISCLAIMER: No beer was wasted in the making of this project.\n",
    "\n",
    "## Motivation\n",
    "\n",
    "I was enjoying drinks with a friend at my flat and were drinking a particularly exceptional lambic beer (Cantillon Brabantiae, 2018. See: https://www.cantillon.be/) and wanted to ensure to distribute it as equitatively as possible.\n",
    "\n",
    "Unfortunately I've never made the habit of buying glasses and thus have no matching glasses and just a collection of small missmatched glasses and jars. We tried our best to be equitative by timing the time of pouring with a consistent stream size rather than by judging the volume. We took this approach because we knew that evaluating volume can be deceptive, especially with nonlinear shaped glasses such as some of mine [Pechey et al, (2015). *PLoS One*. 10(12):e0144536. https://doi.org/10.1371/journal.pone.0144536]:\n",
    "\n",
    "<img src=\"notebook_images/wine_glasses.png\" alt=\"Glasses_wine\" style=\"width: 600px;\"/>\n",
    "\n",
    "We further reasoned that as this is a 750ml beer bottle. If we were off by a relatively small amount, say one person received 120ml and the other 100ml. The more small glasses we had, the larger the disparity of consumption we would have if the difference between servings remained consistent. Indeed for this particular bottle, it would mean that one person would consume on average 20% more than the other. In the end we consumed two 750ml bottles, if one consumed 20% more than the other. Following the simple formula\n",
    "\n",
    "$$\n",
    "x + 1.2*x = 1500ml\n",
    "$$\n",
    "\n",
    "One can find that in the end one person drinks 681ml, while the other drinks 818ml, a full 147ml more than the other, more than a full glass!\n",
    "\n",
    "In the end we got distracted by other topics and estimated our servings, yet the question stuck with me for a couple of days. Then I wondered, could I device a computer vision model that accurately returns the volume in the glass? I thought it could be a fun regression problem, upon researching further I found that there are comparatively few computer vision deep neural network models solving regression than classification or detection problems. I am not sure if there are simply overall less such problems to solve or there is something about them that makes them more troublesome.\n",
    "\n",
    "I have a webcam, and I can train the model with accurate measurements, so let's give it a go."
   ]
  },
  {
   "cell_type": "markdown",
   "id": "0b2e5b3d",
   "metadata": {},
   "source": [
    "## Data Collection\n",
    "\n",
    "I do not want to spend time drawing boxes around my glasses, as I'm generating the data I want minimal anotation. Therefore I simply set up the same background for each of my glasses, reasoning that this is quite functional too, and will help the model to ignore variations in the background that do not help in determining the volume of the glass. I may in future download some pre-trained model that can detect glasses and use it to make the model more flexible to the background.\n",
    "\n",
    "I collected images of two of my glasses at different volume levels and with variations in camera angle, and minimally also in foam levels in the beer. I wanted a working model so as stated above the background was always similar though not exactly the same. For image collection, as well as for other parts of the training I adapted a code developed here (https://github.com/SouravJohar/rock-paper-scissors) to detect hand gestures for playing rock-paper-scissors as it already implemented useful components.\n",
    "\n",
    "I filled up each glass with liquid at intervals of 10ml from 0ml to 120ml which is the limit of the smaller glass.\n",
    "\n",
    "<table><tr>\n",
    "<td> <img src=\"image_data/1g0/14.jpg\" alt=\"Glasses_wine\" style=\"width: 140px;\"/> 0ml </td>\n",
    "<td> <img src=\"image_data/2g30/14.jpg\" alt=\"Glasses_wine\" style=\"width: 140px;\"/> 30ml </td>\n",
    "<td> <img src=\"image_data/1g60/14.jpg\" alt=\"Glasses_wine\" style=\"width: 140px;\"/> 60ml </td>\n",
    "<td> <img src=\"image_data/2g90/14.jpg\" alt=\"Glasses_wine\" style=\"width: 140px;\"/> 90ml </td>\n",
    "<td> <img src=\"image_data/1g120/14.jpg\" alt=\"Glasses_wine\" style=\"width: 140px;\"/> 120ml </td>\n",
    "</tr></table>\n",
    "\n",
    "Below is the code used for data collection, originally its own code \"collect_data.py\""
   ]
  },
  {
   "cell_type": "code",
   "execution_count": 6,
   "id": "019d9c10",
   "metadata": {},
   "outputs": [],
   "source": [
    "# desc = '''Script to gather data images with a particular label.\n",
    "\n",
    "# Usage: python collect_data.py <label_name> <num_samples>\n",
    "\n",
    "# The script will collect <num_samples> number of images and store them\n",
    "# in its own directory.\n",
    "\n",
    "# Only the portion of the image within the box displayed\n",
    "# will be captured and stored.\n",
    "\n",
    "# Press 'a' to start/pause the image collecting process.\n",
    "# Press 'q' to quit.\n",
    "\n",
    "# '''\n",
    "\n",
    "# import cv2\n",
    "# import os\n",
    "# import sys\n",
    "\n",
    "# try:\n",
    "#     label_name = sys.argv[1]        \n",
    "#     num_samples = int(sys.argv[2])\n",
    "# except:\n",
    "#     print(\"Arguments missing.\")\n",
    "#     print(desc)\n",
    "#     exit(-1)\n",
    "\n",
    "# IMG_SAVE_PATH = 'image_data'        # Where to save the images\n",
    "# IMG_CLASS_PATH = os.path.join(IMG_SAVE_PATH, label_name)\n",
    "\n",
    "# try:\n",
    "#     os.mkdir(IMG_SAVE_PATH)         # Make the directory for all data\n",
    "# except FileExistsError:             # Unless it already exists\n",
    "#     pass\n",
    "# try:\n",
    "#     os.mkdir(IMG_CLASS_PATH)        # Make the directory for this data\n",
    "# except FileExistsError:             # Unless it already exists\n",
    "#     print(\"{} directory already exists.\".format(IMG_CLASS_PATH))\n",
    "#     print(\"All images gathered will be saved along with existing items in this folder\")\n",
    "\n",
    "# cap = cv2.VideoCapture(0)           # Start camera\n",
    "# cap.set(cv2.CAP_PROP_AUTOFOCUS, 0)  # turn the autofocus off, my camera is very annoying with this\n",
    "# cap.set(28, 600)  # I fix the focus of the camera, otherwise my specifical model of webcam makes a mess\n",
    "\n",
    "# start = False\n",
    "# count = 0\n",
    "\n",
    "# while True:\n",
    "#     ret, frame = cap.read()\n",
    "#     if not ret:\n",
    "#         continue\n",
    "\n",
    "#     if count == num_samples:    #If sample number is collected, then finish\n",
    "#         break\n",
    "\n",
    "#     #Make rectangle frame for image, half of the camera\n",
    "#     cv2.rectangle(frame, (320, 0), (640, 500), (255, 255, 255), 2)\n",
    "\n",
    "#     if start:\n",
    "#         roi = frame[0:500, 320:640]   # Define ROI to match drawing,\n",
    "#         save_path = os.path.join(IMG_CLASS_PATH, '{}.jpg'.format(count + 1))\n",
    "#         cv2.imwrite(save_path, roi)     # Where to write and increase counter\n",
    "#         count += 1\n",
    "\n",
    "#     font = cv2.FONT_HERSHEY_SIMPLEX     # Define font of numbers\n",
    "#     cv2.putText(frame, \"Collecting {}\".format(count),   # Writes text of collecting #\n",
    "#             (5, 50), font, 0.7, (0, 255, 255), 2, cv2.LINE_AA)\n",
    "#     cv2.imshow(\"Collecting images\", frame)\n",
    "\n",
    "#     k = cv2.waitKey(10)\n",
    "#     if k == ord('a'):       # Start if 'a'\n",
    "#         start = not start\n",
    "\n",
    "#     if k == ord('q'):       # Quit if 'q'\n",
    "#         break\n",
    "\n",
    "# print(\"\\n{} image(s) saved to {}\".format(count, IMG_CLASS_PATH))\n",
    "# cap.release()   # stop recording\n",
    "# cv2.destroyAllWindows() # close recording window"
   ]
  },
  {
   "cell_type": "markdown",
   "id": "56531202",
   "metadata": {},
   "source": [
    "## Modelling\n",
    "\n",
    "I realised that 10ml is so fine-grained that I could also just make a classification algorythm which would give a reasonable estimate but I still wanted to try a regression. As there are so many great resources out there, I went for the well established and lightweight model \"SqueezeNet\" [Iandola et al, (2016). arXiv:1602.07360. https://doi.org/10.48550/arXiv.1602.07360 ]. I then needed simply to remove the head and train a few final layers:\n",
    "- I performed a Dropout to take care against overfitting\n",
    "- A simple 2D Convolution to compress the data somewhat and hopefully distill the important parameters\n",
    "- Global Average Pooling, to linearise the network and also compress it further\n",
    "- A dense layer just in case a bit of processing is still required, probably not but shouldn't hurt\n",
    "- A dense layer with a softplus function for our regression. I prefered softplus over linear as I don't want my model predicting negative values. I chose softplus over \"relu\" as I found that relu does odd things to the loss function when the training data is actually zero.\n",
    "\n",
    "I did try more complex networks just for fun but there was minimal to no improvement, so unless problem becomes more complicated and the loss no longer seems adequate, there is no reason to make the model more complicated."
   ]
  },
  {
   "cell_type": "code",
   "execution_count": 1,
   "id": "71b44dbc",
   "metadata": {},
   "outputs": [],
   "source": [
    "import cv2\n",
    "import numpy as np\n",
    "import tensorflow as tf\n",
    "from squeezenet import SqueezeNet\n",
    "from tensorflow.keras.optimizers import Adam\n",
    "from keras.utils import np_utils\n",
    "from keras.layers import Activation, Dropout, Convolution2D, GlobalAveragePooling2D, Dense, MaxPool2D, Conv2DTranspose\n",
    "from keras.models import Sequential\n",
    "import os\n",
    "import re\n",
    "from matplotlib import pyplot as plt\n",
    "import seaborn as sns\n",
    "import pandas as pd"
   ]
  },
  {
   "cell_type": "code",
   "execution_count": 2,
   "id": "739d6dea",
   "metadata": {},
   "outputs": [],
   "source": [
    "def get_model():\n",
    "    model = Sequential([\n",
    "        SqueezeNet(input_shape=(227, 227, 3), include_top=False),\n",
    "        Dropout(0.5),\n",
    "        Convolution2D(128, (1, 1), padding='valid'),\n",
    "        GlobalAveragePooling2D(),\n",
    "        Dense(64,'relu',kernel_initializer='he_uniform'),\n",
    "        Dense(1,'softplus')\n",
    "    ])\n",
    "    return model"
   ]
  },
  {
   "cell_type": "code",
   "execution_count": 3,
   "id": "d9c2ce8d",
   "metadata": {},
   "outputs": [
    {
     "name": "stdout",
     "output_type": "stream",
     "text": [
      "Model: \"sequential\"\n",
      "_________________________________________________________________\n",
      " Layer (type)                Output Shape              Param #   \n",
      "=================================================================\n",
      " squeezenet (Functional)     (None, 13, 13, 512)       722496    \n",
      "                                                                 \n",
      " dropout (Dropout)           (None, 13, 13, 512)       0         \n",
      "                                                                 \n",
      " conv2d (Conv2D)             (None, 13, 13, 128)       65664     \n",
      "                                                                 \n",
      " global_average_pooling2d (G  (None, 128)              0         \n",
      " lobalAveragePooling2D)                                          \n",
      "                                                                 \n",
      " dense (Dense)               (None, 64)                8256      \n",
      "                                                                 \n",
      " dense_1 (Dense)             (None, 1)                 65        \n",
      "                                                                 \n",
      "=================================================================\n",
      "Total params: 796,481\n",
      "Trainable params: 796,481\n",
      "Non-trainable params: 0\n",
      "_________________________________________________________________\n"
     ]
    }
   ],
   "source": [
    "model = get_model()\n",
    "model.summary()"
   ]
  },
  {
   "cell_type": "markdown",
   "id": "d67215f6",
   "metadata": {},
   "source": [
    "### Loading data\n",
    "I take imported data and use regular expressions on the folder title to define the training value. Originally I had trained each glass with a different model, yet I thought it would be nice to just train everything with the same model and just have the model figure it out. Conceptually I find this interesting it's conceivable that if one successfully trains with a sufficient number of glasses the model will be able to interpolate new glasses types it hasn't seen."
   ]
  },
  {
   "cell_type": "code",
   "execution_count": 4,
   "id": "55ba10b4",
   "metadata": {},
   "outputs": [
    {
     "name": "stdout",
     "output_type": "stream",
     "text": [
      "image_data/2g110\n",
      "image_data/1g50\n",
      "image_data/2g50\n",
      "image_data/1g0\n",
      "image_data/2g70\n",
      "image_data/2g10\n",
      "image_data/1g20\n",
      "image_data/2g90\n",
      "image_data/1g10\n",
      "image_data/2g120\n",
      "image_data/2g100\n",
      "image_data/1g120\n",
      "image_data/1g70\n",
      "image_data/1g110\n",
      "image_data/1g40\n",
      "image_data/1g90\n",
      "image_data/1g60\n",
      "image_data/2g30\n",
      "image_data/2g20\n",
      "image_data/2g60\n",
      "image_data/1g80\n",
      "image_data/1g100\n",
      "image_data/2g40\n",
      "image_data/2g0\n",
      "image_data/1g30\n",
      "image_data/2g80\n"
     ]
    }
   ],
   "source": [
    "dir_data = 'image_data'\n",
    "glass_Train = \"\"\n",
    "# load images from the directory\n",
    "dataset = []\n",
    "for directory in os.listdir(dir_data):\n",
    "    if glass_Train in directory:\n",
    "        path = os.path.join(dir_data, directory)\n",
    "        print(path)\n",
    "        if not os.path.isdir(path):\n",
    "            continue\n",
    "        for item in os.listdir(path):\n",
    "            # to make sure no hidden files get in our way\n",
    "            if item.startswith(\".\"):\n",
    "                continue\n",
    "            img = cv2.imread(os.path.join(path, item))\n",
    "            img = cv2.cvtColor(img, cv2.COLOR_BGR2RGB)\n",
    "            img = cv2.resize(img, (227, 227))\n",
    "            dataset.append([img, directory])"
   ]
  },
  {
   "cell_type": "code",
   "execution_count": 5,
   "id": "623be9bb",
   "metadata": {},
   "outputs": [],
   "source": [
    "def mapper(label):\n",
    "    return(int(re.sub(\"[1-2]g\",\"\",label)))\n",
    "\n",
    "data, labels = zip(*dataset)\n",
    "labels = list(map(mapper,labels))"
   ]
  },
  {
   "cell_type": "markdown",
   "id": "2a5d4295",
   "metadata": {},
   "source": [
    "## Training\n",
    "The model trains relatively fast, in about 10 minutes.My laptop, though 5 years old, has an integrated NVIDIA Quadro M1200, 4 GB RAM, 128 Bit width, 5000 MHz Clock Speed GPU which integrates neatly with tensorflow's CUDA functionality and works well enough."
   ]
  },
  {
   "cell_type": "code",
   "execution_count": 15,
   "id": "9ba4d50e",
   "metadata": {},
   "outputs": [
    {
     "name": "stdout",
     "output_type": "stream",
     "text": [
      "Model: \"sequential_2\"\n",
      "_________________________________________________________________\n",
      " Layer (type)                Output Shape              Param #   \n",
      "=================================================================\n",
      " squeezenet (Functional)     (None, 13, 13, 512)       722496    \n",
      "                                                                 \n",
      " dropout_2 (Dropout)         (None, 13, 13, 512)       0         \n",
      "                                                                 \n",
      " conv2d_2 (Conv2D)           (None, 13, 13, 128)       65664     \n",
      "                                                                 \n",
      " global_average_pooling2d_2   (None, 128)              0         \n",
      " (GlobalAveragePooling2D)                                        \n",
      "                                                                 \n",
      " dense_4 (Dense)             (None, 64)                8256      \n",
      "                                                                 \n",
      " dense_5 (Dense)             (None, 1)                 65        \n",
      "                                                                 \n",
      "=================================================================\n",
      "Total params: 796,481\n",
      "Trainable params: 796,481\n",
      "Non-trainable params: 0\n",
      "_________________________________________________________________\n",
      "None\n",
      "Epoch 1/10\n",
      "244/244 [==============================] - 48s 192ms/step - loss: 8.4196 - mean_absolute_error: 9.0561\n",
      "Epoch 2/10\n",
      "244/244 [==============================] - 47s 192ms/step - loss: 3.2812 - mean_absolute_error: 3.8719\n",
      "Epoch 3/10\n",
      "244/244 [==============================] - 47s 192ms/step - loss: 2.3935 - mean_absolute_error: 2.9556\n",
      "Epoch 4/10\n",
      "244/244 [==============================] - 57s 236ms/step - loss: 2.1879 - mean_absolute_error: 2.7400\n",
      "Epoch 5/10\n",
      "244/244 [==============================] - 61s 250ms/step - loss: 1.8578 - mean_absolute_error: 2.4012\n",
      "Epoch 6/10\n",
      "244/244 [==============================] - 61s 250ms/step - loss: 1.6723 - mean_absolute_error: 2.2048\n",
      "Epoch 7/10\n",
      "244/244 [==============================] - 61s 249ms/step - loss: 1.5041 - mean_absolute_error: 2.0251\n",
      "Epoch 8/10\n",
      "244/244 [==============================] - 61s 250ms/step - loss: 1.4242 - mean_absolute_error: 1.9355\n",
      "Epoch 9/10\n",
      "244/244 [==============================] - 61s 250ms/step - loss: 1.2535 - mean_absolute_error: 1.7590\n",
      "Epoch 10/10\n",
      "244/244 [==============================] - 61s 250ms/step - loss: 1.1069 - mean_absolute_error: 1.5999\n"
     ]
    }
   ],
   "source": [
    "# define the model\n",
    "model = get_model()\n",
    "print(model.summary())\n",
    "model.compile(\n",
    "    optimizer=Adam(learning_rate=0.001),\n",
    "    loss='log_cosh', # I tried MAE and it worked pretty well, I don't see too much difference with log_cosh, however\n",
    "                     # I realised interestingly that log_cosh leads to a faster reduction of loss when the values\n",
    "                     # are smaller, I think that makes sense from looking at the function shape near zero compared\n",
    "                     # to absolute\n",
    "    metrics=['mean_absolute_error']\n",
    ")\n",
    "\n",
    "# start training\n",
    "history = model.fit(np.array(data), np.array(labels), epochs=10)\n",
    "\n",
    "# save the model for later use\n",
    "model.save(\"deepBeerLevelz.h5\")"
   ]
  },
  {
   "cell_type": "markdown",
   "id": "ff7d6bf6",
   "metadata": {},
   "source": [
    "I check the mean absolute error and explained variance on our separate validation dataset. The mean absolute error is pretty good. Absolute error is intuitive for this type of scenarios as it can relate back to physical terms, we can directly interpret that the measurement is on average off by 1.038ml (may vary), not bad at all! A relative error would be a bit more difficult to interpret as we have some values that are zero. The almost one explained variance is also a good sign that we correctly capture the dynamics of our training data."
   ]
  },
  {
   "cell_type": "code",
   "execution_count": 6,
   "id": "71514f95",
   "metadata": {},
   "outputs": [
    {
     "name": "stderr",
     "output_type": "stream",
     "text": [
      "2022-03-23 20:49:23.510372: W tensorflow/core/framework/cpu_allocator_impl.cc:82] Allocation of 1205778600 exceeds 10% of free system memory.\n",
      "2022-03-23 20:49:24.308750: W tensorflow/core/framework/cpu_allocator_impl.cc:82] Allocation of 1205778600 exceeds 10% of free system memory.\n"
     ]
    },
    {
     "name": "stdout",
     "output_type": "stream",
     "text": [
      "MAE: 1.038 (ml)\n",
      "EV: 0.999\n"
     ]
    }
   ],
   "source": [
    "from keras.models import load_model\n",
    "model = load_model(\"deepBeerLevelz.h5\")\n",
    "from sklearn.metrics import mean_absolute_error\n",
    "from sklearn.metrics import explained_variance_score\n",
    "\n",
    "data_pred = model.predict(np.array(data))\n",
    "print(\"MAE: \"+str(np.round(mean_absolute_error(labels,data_pred),3))+\" (ml)\")\n",
    "print(\"EV: \"+str(np.round(explained_variance_score(labels,data_pred),3)))"
   ]
  },
  {
   "cell_type": "markdown",
   "id": "644fd05c",
   "metadata": {},
   "source": [
    "## Testing on separate datasets, and testing the regression\n",
    "The steps so far suggest that the model can return values pretty well, but so far all the data is still in steps of 10. It also doesn't seem to struggle with the fact that there are two glass types. I then create new datasets with values the model has not trained for and analyse whether it is able to correctly interpolate the values for both glass types. Also since these values aren't very small it's possible to use percentage error too."
   ]
  },
  {
   "cell_type": "code",
   "execution_count": 7,
   "id": "e90e5f44",
   "metadata": {},
   "outputs": [
    {
     "name": "stdout",
     "output_type": "stream",
     "text": [
      "test_datasets/1g105\n",
      "test_datasets/2g105\n",
      "test_datasets/1g95\n",
      "test_datasets/1g25\n",
      "test_datasets/2g95\n",
      "test_datasets/2g25\n"
     ]
    }
   ],
   "source": [
    "# model = load_model(\"deepBeerLevels.h5\")\n",
    "dir_test = \"test_datasets/\"\n",
    "glass_Test = \"\"\n",
    "# load images from the directory\n",
    "dataset_test = []\n",
    "for directory in os.listdir(dir_test):\n",
    "    if glass_Test in directory:\n",
    "        path = os.path.join(dir_test, directory)\n",
    "        print(path)\n",
    "        if not os.path.isdir(path):\n",
    "            continue\n",
    "        for item in os.listdir(path):\n",
    "            # to make sure no hidden files get in our way\n",
    "            if item.startswith(\".\"):\n",
    "                continue\n",
    "            img = cv2.imread(os.path.join(path, item))\n",
    "            img = cv2.cvtColor(img, cv2.COLOR_BGR2RGB)\n",
    "            img = cv2.resize(img, (227, 227))\n",
    "            dataset_test.append([img, directory])"
   ]
  },
  {
   "cell_type": "code",
   "execution_count": 8,
   "id": "29eb5a64",
   "metadata": {},
   "outputs": [
    {
     "name": "stdout",
     "output_type": "stream",
     "text": [
      "MAE: 1.452 (ml)\n",
      "MAPE: 0.029\n",
      "EV: 0.997\n"
     ]
    }
   ],
   "source": [
    "data_test, labels_test = zip(*dataset_test)\n",
    "labels_test = list(map(mapper,labels_test))\n",
    "\n",
    "from sklearn.metrics import mean_absolute_percentage_error\n",
    "\n",
    "data_pred = model.predict(np.array(data_test))\n",
    "print(\"MAE: \"+str(np.round(mean_absolute_error(labels_test,data_pred),3))+\" (ml)\")\n",
    "print(\"MAPE: \"+str(np.round(mean_absolute_percentage_error(labels_test,data_pred),3)))\n",
    "print(\"EV: \"+str(np.round(explained_variance_score(labels_test,data_pred),3)))"
   ]
  },
  {
   "cell_type": "markdown",
   "id": "1925b498",
   "metadata": {},
   "source": [
    "While the model has slightly more error (1.417ml), it will be able to accurately predict the value within a tolerable error!\n",
    "\n",
    "All that's left now is to make a fun video of beer being poored and the model predicting the values:"
   ]
  },
  {
   "cell_type": "markdown",
   "id": "70400052",
   "metadata": {},
   "source": [
    "## Making evidential video"
   ]
  },
  {
   "cell_type": "code",
   "execution_count": 9,
   "id": "c2eebeb0",
   "metadata": {},
   "outputs": [],
   "source": [
    "dir_sequence = \"sequence_datasets/2gsequence/\"\n",
    "dataset_sequence = []\n",
    "for item in os.listdir(dir_sequence):\n",
    "    # to make sure no hidden files get in our way\n",
    "    if item.startswith(\".\"):\n",
    "        continue\n",
    "    img = cv2.imread(os.path.join(dir_sequence, item))\n",
    "    img = cv2.cvtColor(img, cv2.COLOR_BGR2RGB)\n",
    "    img = cv2.resize(img, (227, 227))\n",
    "    dataset_sequence.append(img)\n",
    "    \n",
    "order_sequence = np.argsort([int(re.sub(\".jpg\",\"\",im)) for im in os.listdir(dir_sequence)])\n",
    "dataset_sequence = np.array(dataset_sequence)[order_sequence]\n",
    "predict_sequence = (model.predict(dataset_sequence))[:,0]"
   ]
  },
  {
   "cell_type": "markdown",
   "id": "b90319b2",
   "metadata": {},
   "source": [
    "One can see that the predicted level increases over time either from pooring or from foam becoming liquid. In hindsight I could have made my training datasets include foam and thus account for that, definitely for a future model. So to be accurate the model calculates the amount of liquid beer."
   ]
  },
  {
   "cell_type": "code",
   "execution_count": 10,
   "id": "35a3fd40",
   "metadata": {},
   "outputs": [
    {
     "data": {
      "image/png": "[encoded data removed]",
      "text/plain": [
       "<Figure size 432x288 with 1 Axes>"
      ]
     },
     "metadata": {
      "needs_background": "light"
     },
     "output_type": "display_data"
    }
   ],
   "source": [
    "plt.plot(np.arange(0,999/30+0.001,1/30),predict_sequence);\n",
    "plt.title(\"Predicted Beer levels\");\n",
    "plt.xlabel(\"Time (s)\");\n",
    "plt.ylabel(\"Beer (ml)\");"
   ]
  },
  {
   "cell_type": "markdown",
   "id": "6381466e",
   "metadata": {},
   "source": [
    "I then simply label the images and make a video using ffmpeg command line which I'm more familiar with for such tasks."
   ]
  },
  {
   "cell_type": "code",
   "execution_count": 11,
   "id": "1cc40d01",
   "metadata": {},
   "outputs": [],
   "source": [
    "from PIL import Image, ImageFont, ImageDraw\n",
    "\n",
    "dir_sequence_out = \"sequence_datasets/2gsequence_predict/\"\n",
    "try:\n",
    "    os.mkdir(dir_sequence_out)         # Make the directory for all data\n",
    "except FileExistsError:             # Unless it already exists\n",
    "    pass\n",
    "title_font = ImageFont.truetype('font/arial_narrow_7.ttf', 30)\n",
    "\n",
    "for i, item in enumerate(os.listdir(dir_sequence)):\n",
    "    # to make sure no hidden files get in our way\n",
    "    if item.startswith(\".\"):\n",
    "        continue\n",
    "    my_image = Image.open(os.path.join(dir_sequence, item))\n",
    "    title_text = \"Predicted: \"+str(np.round(predict_sequence[int(re.sub(\".jpg\",\"\",item))-1],1))+\"ml\"\n",
    "    image_editable = ImageDraw.Draw(my_image)\n",
    "    image_editable.text((15,440), title_text, (235, 235, 235), font=title_font)\n",
    "    my_image.save(dir_sequence_out + re.sub(\".jpg\",\"_marked.jpg\",item.zfill(8)))"
   ]
  },
  {
   "cell_type": "code",
   "execution_count": 12,
   "id": "392cbac8",
   "metadata": {},
   "outputs": [],
   "source": [
    "os.system(\"ffmpeg -framerate 30 -i \"+dir_sequence_out+\"%04d_marked.jpg -c:v libx264 ../2gsequence_video.mp4\")"
   ]
  },
  {
   "cell_type": "markdown",
   "id": "42560e41",
   "metadata": {},
   "source": [
    "<video controls src=\"sequence_datasets/2gsequence_video.mp4\" />"
   ]
  },
  {
   "cell_type": "code",
   "execution_count": 13,
   "id": "cc782005",
   "metadata": {},
   "outputs": [
    {
     "data": {
      "text/html": [
       "<video src=\"sequence_datasets/2gsequence_video.mp4\" controls  >\n",
       "      Your browser does not support the <code>video</code> element.\n",
       "    </video>"
      ],
      "text/plain": [
       "<IPython.core.display.Video object>"
      ]
     },
     "execution_count": 13,
     "metadata": {},
     "output_type": "execute_result"
    }
   ],
   "source": [
    "from IPython.display import Video\n",
    "Video(\"sequence_datasets/2gsequence_video.mp4\")"
   ]
  },
  {
   "cell_type": "code",
   "execution_count": 14,
   "id": "eeedf526",
   "metadata": {},
   "outputs": [
    {
     "data": {
      "text/html": [
       "\n",
       "<video width=\"320\" height=\"240\" controls>\n",
       "  <source src=\"sequence_datasets/2gsequence_video.mp4\" type=\"video/mp4\">\n",
       "</video>\n"
      ],
      "text/plain": [
       "<IPython.core.display.HTML object>"
      ]
     },
     "execution_count": 14,
     "metadata": {},
     "output_type": "execute_result"
    }
   ],
   "source": [
    "from IPython.display import HTML\n",
    "\n",
    "HTML(\"\"\"\n",
    "<video width=\"320\" height=\"240\" controls>\n",
    "  <source src=\"sequence_datasets/2gsequence_video.mp4\" type=\"video/mp4\">\n",
    "</video>\n",
    "\"\"\")"
   ]
  },
  {
   "cell_type": "markdown",
   "id": "0a77c942",
   "metadata": {},
   "source": [
    "## Conclusions\n"
   ]
  },
  {
   "cell_type": "code",
   "execution_count": null,
   "id": "8e9d759c",
   "metadata": {},
   "outputs": [],
   "source": []
  }
 ],
 "metadata": {
  "kernelspec": {
   "display_name": "Python 3 (ipykernel)",
   "language": "python",
   "name": "python3"
  },
  "language_info": {
   "codemirror_mode": {
    "name": "ipython",
    "version": 3
   },
   "file_extension": ".py",
   "mimetype": "text/x-python",
   "name": "python",
   "nbconvert_exporter": "python",
   "pygments_lexer": "ipython3",
   "version": "3.8.10"
  }
 },
 "nbformat": 4,
 "nbformat_minor": 5
}
